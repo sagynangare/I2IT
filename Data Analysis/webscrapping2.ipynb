{
 "cells": [
  {
   "cell_type": "code",
   "execution_count": 1,
   "metadata": {},
   "outputs": [],
   "source": [
    "import requests\n",
    "from bs4 import BeautifulSoup"
   ]
  },
  {
   "cell_type": "code",
   "execution_count": 2,
   "metadata": {},
   "outputs": [],
   "source": [
    "page = requests.get(\"http://forecast.weather.gov/MapClick.php?lat=37.7772&lon=-122.4168\")\n",
    "soup = BeautifulSoup(page.content, 'html.parser')\n",
    "seven_day = soup.find(id=\"seven-day-forecast\")"
   ]
  },
  {
   "cell_type": "code",
   "execution_count": 3,
   "metadata": {},
   "outputs": [],
   "source": [
    "forecast_items = seven_day.find_all(class_=\"tombstone-container\")\n",
    "tonight = forecast_items[0]"
   ]
  },
  {
   "cell_type": "code",
   "execution_count": 9,
   "metadata": {},
   "outputs": [
    {
     "name": "stdout",
     "output_type": "stream",
     "text": [
      "<div class=\"tombstone-container\">\n",
      " <p class=\"period-name\">\n",
      "  Washington's\n",
      "  <br/>\n",
      "  Birthday\n",
      " </p>\n",
      " <p>\n",
      "  <img alt=\"Washington's Birthday: Sunny, with a high near 55. North wind 15 to 17 mph, with gusts as high as 22 mph. \" class=\"forecast-icon\" src=\"newimages/medium/skc.png\" title=\"Washington's Birthday: Sunny, with a high near 55. North wind 15 to 17 mph, with gusts as high as 22 mph. \"/>\n",
      " </p>\n",
      " <p class=\"short-desc\">\n",
      "  Sunny\n",
      " </p>\n",
      " <p class=\"temp temp-high\">\n",
      "  High: 55 °F\n",
      " </p>\n",
      "</div>\n"
     ]
    }
   ],
   "source": [
    "print(tonight.prettify())"
   ]
  },
  {
   "cell_type": "code",
   "execution_count": 34,
   "metadata": {},
   "outputs": [
    {
     "data": {
      "text/plain": [
       "\"Washington'sBirthday\""
      ]
     },
     "execution_count": 34,
     "metadata": {},
     "output_type": "execute_result"
    }
   ],
   "source": [
    "period = tonight.find(class_=\"period-name\").get_text()\n",
    "short_desc = tonight.find(class_=\"short-desc\").get_text()\n",
    "temp = tonight.find(class_=\"temp\").get_text()\n",
    "period"
   ]
  },
  {
   "cell_type": "code",
   "execution_count": 36,
   "metadata": {},
   "outputs": [
    {
     "data": {
      "text/plain": [
       "[\"Washington'sBirthday\",\n",
       " 'Tonight',\n",
       " 'Tuesday',\n",
       " 'TuesdayNight',\n",
       " 'Wednesday',\n",
       " 'WednesdayNight',\n",
       " 'Thursday',\n",
       " 'ThursdayNight',\n",
       " 'Friday']"
      ]
     },
     "execution_count": 36,
     "metadata": {},
     "output_type": "execute_result"
    }
   ],
   "source": [
    "img = tonight.find(\"img\")\n",
    "desc = img['title']\n",
    "period_tags = seven_day.select(\".tombstone-container .period-name\")\n",
    "#period_tags\n",
    "periods = [pt.get_text() for pt in period_tags]\n",
    "periods"
   ]
  },
  {
   "cell_type": "code",
   "execution_count": 26,
   "metadata": {},
   "outputs": [],
   "source": [
    "short_descs = [sd.get_text() for sd in seven_day.select(\".tombstone-container .short-desc\")]\n",
    "temps = [t.get_text() for t in seven_day.select(\".tombstone-container .temp\")]\n",
    "descs = [d[\"title\"] for d in seven_day.select(\".tombstone-container img\")]"
   ]
  },
  {
   "cell_type": "code",
   "execution_count": 30,
   "metadata": {},
   "outputs": [
    {
     "data": {
      "text/plain": [
       "(9, 9, 9, 0)"
      ]
     },
     "execution_count": 30,
     "metadata": {},
     "output_type": "execute_result"
    }
   ],
   "source": [
    "len(short_descs), len(temps), len(descs), len(periods)"
   ]
  },
  {
   "cell_type": "code",
   "execution_count": 20,
   "metadata": {},
   "outputs": [],
   "source": [
    "import pandas as pd"
   ]
  },
  {
   "cell_type": "code",
   "execution_count": 37,
   "metadata": {},
   "outputs": [
    {
     "data": {
      "text/html": [
       "<div>\n",
       "<style scoped>\n",
       "    .dataframe tbody tr th:only-of-type {\n",
       "        vertical-align: middle;\n",
       "    }\n",
       "\n",
       "    .dataframe tbody tr th {\n",
       "        vertical-align: top;\n",
       "    }\n",
       "\n",
       "    .dataframe thead th {\n",
       "        text-align: right;\n",
       "    }\n",
       "</style>\n",
       "<table border=\"1\" class=\"dataframe\">\n",
       "  <thead>\n",
       "    <tr style=\"text-align: right;\">\n",
       "      <th></th>\n",
       "      <th>period</th>\n",
       "      <th>short_desc</th>\n",
       "      <th>temp</th>\n",
       "      <th>desc</th>\n",
       "    </tr>\n",
       "  </thead>\n",
       "  <tbody>\n",
       "    <tr>\n",
       "      <th>0</th>\n",
       "      <td>Washington'sBirthday</td>\n",
       "      <td>Sunny</td>\n",
       "      <td>High: 55 °F</td>\n",
       "      <td>Washington's Birthday: Sunny, with a high near...</td>\n",
       "    </tr>\n",
       "    <tr>\n",
       "      <th>1</th>\n",
       "      <td>Tonight</td>\n",
       "      <td>Clear</td>\n",
       "      <td>Low: 43 °F</td>\n",
       "      <td>Tonight: Clear, with a low around 43. North wi...</td>\n",
       "    </tr>\n",
       "    <tr>\n",
       "      <th>2</th>\n",
       "      <td>Tuesday</td>\n",
       "      <td>Sunny</td>\n",
       "      <td>High: 54 °F</td>\n",
       "      <td>Tuesday: Sunny, with a high near 54. North win...</td>\n",
       "    </tr>\n",
       "    <tr>\n",
       "      <th>3</th>\n",
       "      <td>TuesdayNight</td>\n",
       "      <td>Partly Cloudy</td>\n",
       "      <td>Low: 44 °F</td>\n",
       "      <td>Tuesday Night: Partly cloudy, with a low aroun...</td>\n",
       "    </tr>\n",
       "    <tr>\n",
       "      <th>4</th>\n",
       "      <td>Wednesday</td>\n",
       "      <td>Slight ChanceShowers</td>\n",
       "      <td>High: 55 °F</td>\n",
       "      <td>Wednesday: A 20 percent chance of showers afte...</td>\n",
       "    </tr>\n",
       "    <tr>\n",
       "      <th>5</th>\n",
       "      <td>WednesdayNight</td>\n",
       "      <td>Slight ChanceShowers</td>\n",
       "      <td>Low: 44 °F</td>\n",
       "      <td>Wednesday Night: A 20 percent chance of shower...</td>\n",
       "    </tr>\n",
       "    <tr>\n",
       "      <th>6</th>\n",
       "      <td>Thursday</td>\n",
       "      <td>Mostly Sunny</td>\n",
       "      <td>High: 55 °F</td>\n",
       "      <td>Thursday: Mostly sunny, with a high near 55.</td>\n",
       "    </tr>\n",
       "    <tr>\n",
       "      <th>7</th>\n",
       "      <td>ThursdayNight</td>\n",
       "      <td>Mostly Clear</td>\n",
       "      <td>Low: 43 °F</td>\n",
       "      <td>Thursday Night: Mostly clear, with a low aroun...</td>\n",
       "    </tr>\n",
       "    <tr>\n",
       "      <th>8</th>\n",
       "      <td>Friday</td>\n",
       "      <td>Sunny</td>\n",
       "      <td>High: 55 °F</td>\n",
       "      <td>Friday: Sunny, with a high near 55.</td>\n",
       "    </tr>\n",
       "  </tbody>\n",
       "</table>\n",
       "</div>"
      ],
      "text/plain": [
       "                 period            short_desc         temp  \\\n",
       "0  Washington'sBirthday                 Sunny  High: 55 °F   \n",
       "1               Tonight                 Clear   Low: 43 °F   \n",
       "2               Tuesday                 Sunny  High: 54 °F   \n",
       "3          TuesdayNight         Partly Cloudy   Low: 44 °F   \n",
       "4             Wednesday  Slight ChanceShowers  High: 55 °F   \n",
       "5        WednesdayNight  Slight ChanceShowers   Low: 44 °F   \n",
       "6              Thursday          Mostly Sunny  High: 55 °F   \n",
       "7         ThursdayNight          Mostly Clear   Low: 43 °F   \n",
       "8                Friday                 Sunny  High: 55 °F   \n",
       "\n",
       "                                                desc  \n",
       "0  Washington's Birthday: Sunny, with a high near...  \n",
       "1  Tonight: Clear, with a low around 43. North wi...  \n",
       "2  Tuesday: Sunny, with a high near 54. North win...  \n",
       "3  Tuesday Night: Partly cloudy, with a low aroun...  \n",
       "4  Wednesday: A 20 percent chance of showers afte...  \n",
       "5  Wednesday Night: A 20 percent chance of shower...  \n",
       "6       Thursday: Mostly sunny, with a high near 55.  \n",
       "7  Thursday Night: Mostly clear, with a low aroun...  \n",
       "8                Friday: Sunny, with a high near 55.  "
      ]
     },
     "execution_count": 37,
     "metadata": {},
     "output_type": "execute_result"
    }
   ],
   "source": [
    "weather = pd.DataFrame({\n",
    "        \"period\": periods,\n",
    "        \"short_desc\": short_descs, \n",
    "        \"temp\": temps, \n",
    "        \"desc\":descs\n",
    "    })\n",
    "weather"
   ]
  },
  {
   "cell_type": "code",
   "execution_count": 39,
   "metadata": {},
   "outputs": [
    {
     "data": {
      "text/plain": [
       "{'period': [\"Washington'sBirthday\",\n",
       "  'Tonight',\n",
       "  'Tuesday',\n",
       "  'TuesdayNight',\n",
       "  'Wednesday',\n",
       "  'WednesdayNight',\n",
       "  'Thursday',\n",
       "  'ThursdayNight',\n",
       "  'Friday'],\n",
       " 'short_desc': ['Sunny',\n",
       "  'Clear',\n",
       "  'Sunny',\n",
       "  'Partly Cloudy',\n",
       "  'Slight ChanceShowers',\n",
       "  'Slight ChanceShowers',\n",
       "  'Mostly Sunny',\n",
       "  'Mostly Clear',\n",
       "  'Sunny'],\n",
       " 'temp': ['High: 55 °F',\n",
       "  'Low: 43 °F',\n",
       "  'High: 54 °F',\n",
       "  'Low: 44 °F',\n",
       "  'High: 55 °F',\n",
       "  'Low: 44 °F',\n",
       "  'High: 55 °F',\n",
       "  'Low: 43 °F',\n",
       "  'High: 55 °F'],\n",
       " 'desc': [\"Washington's Birthday: Sunny, with a high near 55. North wind 15 to 17 mph, with gusts as high as 22 mph. \",\n",
       "  'Tonight: Clear, with a low around 43. North wind 7 to 11 mph. ',\n",
       "  'Tuesday: Sunny, with a high near 54. North wind 10 to 13 mph becoming west in the afternoon. ',\n",
       "  'Tuesday Night: Partly cloudy, with a low around 44. West wind 5 to 8 mph becoming north after midnight. ',\n",
       "  'Wednesday: A 20 percent chance of showers after 10am.  Partly sunny, with a high near 55. West northwest wind 7 to 16 mph, with gusts as high as 22 mph. ',\n",
       "  'Wednesday Night: A 20 percent chance of showers.  Partly cloudy, with a low around 44.',\n",
       "  'Thursday: Mostly sunny, with a high near 55.',\n",
       "  'Thursday Night: Mostly clear, with a low around 43.',\n",
       "  'Friday: Sunny, with a high near 55.']}"
      ]
     },
     "execution_count": 39,
     "metadata": {},
     "output_type": "execute_result"
    }
   ],
   "source": [
    "d={\n",
    "        \"period\": periods,\n",
    "        \"short_desc\": short_descs, \n",
    "        \"temp\": temps, \n",
    "        \"desc\":descs\n",
    "    }\n",
    "d"
   ]
  },
  {
   "cell_type": "code",
   "execution_count": null,
   "metadata": {},
   "outputs": [],
   "source": []
  }
 ],
 "metadata": {
  "kernelspec": {
   "display_name": "Python 3",
   "language": "python",
   "name": "python3"
  },
  "language_info": {
   "codemirror_mode": {
    "name": "ipython",
    "version": 3
   },
   "file_extension": ".py",
   "mimetype": "text/x-python",
   "name": "python",
   "nbconvert_exporter": "python",
   "pygments_lexer": "ipython3",
   "version": "3.7.2"
  }
 },
 "nbformat": 4,
 "nbformat_minor": 2
}
